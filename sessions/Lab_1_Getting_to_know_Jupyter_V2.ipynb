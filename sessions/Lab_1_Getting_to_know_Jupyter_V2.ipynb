{
  "nbformat": 4,
  "nbformat_minor": 0,
  "metadata": {
    "kernelspec": {
      "name": "python3",
      "display_name": "Python 3",
      "language": "python"
    },
    "language_info": {
      "name": "python",
      "version": "3.7.10",
      "mimetype": "text/x-python",
      "codemirror_mode": {
        "name": "ipython",
        "version": 3
      },
      "pygments_lexer": "ipython3",
      "nbconvert_exporter": "python",
      "file_extension": ".py"
    },
    "colab": {
      "name": "Lab 1. Getting to know Jupyter V2.ipynb",
      "provenance": [],
      "collapsed_sections": []
    }
  },
  "cells": [
    {
      "cell_type": "code",
      "metadata": {
        "id": "iSFAuIINuFXI"
      },
      "source": [
        ""
      ],
      "execution_count": null,
      "outputs": []
    },
    {
      "cell_type": "markdown",
      "metadata": {
        "id": "ef3RSIsCuFXI"
      },
      "source": [
        "# Lab 1. Getting to know Jupyter"
      ]
    },
    {
      "cell_type": "markdown",
      "metadata": {
        "id": "hp_RV7X_uFXJ"
      },
      "source": [
        "## Welcome to Lab 1. In this lab we will learn how to use Jupyter."
      ]
    },
    {
      "cell_type": "markdown",
      "metadata": {
        "id": "WnN4uVbpuFXJ"
      },
      "source": [
        "### Jupyter is a web-based service that allows you to run code in the cloud. This is quite useful as it allows you to process large datasets using compex algorithms. \n",
        "### Jupyter is the standard approach to conduct data science these days. Everyone is using it !!"
      ]
    },
    {
      "cell_type": "markdown",
      "metadata": {
        "id": "zs30PLgluFXK"
      },
      "source": [
        "#### As depicted in the figure below it all starts with a user and a notebook. \n",
        "#### A Notebook, like the one you are running now, is a set of python commands that are executed sequentially by a Kernel somewhere in the cloud.\n",
        "#### Jupyter is the service that makes sure everything works as intended, formally speaking it is called a Notebook Server."
      ]
    },
    {
      "cell_type": "markdown",
      "metadata": {
        "id": "OwI3qFa1uFXK"
      },
      "source": [
        "TO DO: insert Jupyter Architecture as an image here"
      ]
    },
    {
      "cell_type": "code",
      "metadata": {
        "id": "e88V0RBiuFXK"
      },
      "source": [
        ""
      ],
      "execution_count": null,
      "outputs": []
    },
    {
      "cell_type": "code",
      "metadata": {
        "id": "xNR5whdguFXK"
      },
      "source": [
        ""
      ],
      "execution_count": null,
      "outputs": []
    },
    {
      "cell_type": "code",
      "metadata": {
        "id": "jtv9wDcFuFXK"
      },
      "source": [
        ""
      ],
      "execution_count": null,
      "outputs": []
    },
    {
      "cell_type": "markdown",
      "metadata": {
        "id": "q8X4u8ZwuFXL"
      },
      "source": [
        "## 1.1. Basic Data Types in Python"
      ]
    },
    {
      "cell_type": "markdown",
      "metadata": {
        "id": "KgUj_6SRuFXL"
      },
      "source": [
        "#### All programming languages, including Python, define types of data that you can use. For instance a number, a string, a list of numbers,etc."
      ]
    },
    {
      "cell_type": "code",
      "metadata": {
        "id": "LxLi4G0guK8J"
      },
      "source": [
        "myIntegerVariable=56"
      ],
      "execution_count": 1,
      "outputs": []
    },
    {
      "cell_type": "code",
      "metadata": {
        "id": "UfrfwMPtuFXL"
      },
      "source": [
        "myFloatVariable=3.141592"
      ],
      "execution_count": 2,
      "outputs": []
    },
    {
      "cell_type": "code",
      "metadata": {
        "colab": {
          "base_uri": "https://localhost:8080/"
        },
        "id": "9PvuEOOYuFXM",
        "outputId": "5c2454d0-2738-40db-d1f9-d8e26d39c32d"
      },
      "source": [
        "myFloatVariable"
      ],
      "execution_count": 3,
      "outputs": [
        {
          "output_type": "execute_result",
          "data": {
            "text/plain": [
              "3.141592"
            ]
          },
          "metadata": {},
          "execution_count": 3
        }
      ]
    },
    {
      "cell_type": "code",
      "metadata": {
        "colab": {
          "base_uri": "https://localhost:8080/"
        },
        "id": "rZNWnFiXuFXM",
        "outputId": "02cef551-f528-4a3b-d5f8-48129670dd68"
      },
      "source": [
        "print(myFloatVariable)"
      ],
      "execution_count": 4,
      "outputs": [
        {
          "output_type": "stream",
          "name": "stdout",
          "text": [
            "3.141592\n"
          ]
        }
      ]
    },
    {
      "cell_type": "code",
      "metadata": {
        "id": "q2kHwR8-uFXM"
      },
      "source": [
        "myStringVariable='Hi there I am on python'"
      ],
      "execution_count": 5,
      "outputs": []
    },
    {
      "cell_type": "code",
      "metadata": {
        "colab": {
          "base_uri": "https://localhost:8080/",
          "height": 35
        },
        "id": "PIKnoIBYuFXM",
        "outputId": "f0c6e740-5712-47bd-8aae-a1c176c80788"
      },
      "source": [
        "myStringVariable"
      ],
      "execution_count": 6,
      "outputs": [
        {
          "output_type": "execute_result",
          "data": {
            "application/vnd.google.colaboratory.intrinsic+json": {
              "type": "string"
            },
            "text/plain": [
              "'Hi there I am on python'"
            ]
          },
          "metadata": {},
          "execution_count": 6
        }
      ]
    },
    {
      "cell_type": "code",
      "metadata": {
        "colab": {
          "base_uri": "https://localhost:8080/"
        },
        "id": "AvnBj9G6uFXN",
        "outputId": "0e3814b4-ca44-4bb5-8758-69e902943d5b"
      },
      "source": [
        "print(myStringVariable)"
      ],
      "execution_count": 7,
      "outputs": [
        {
          "output_type": "stream",
          "name": "stdout",
          "text": [
            "Hi there I am on python\n"
          ]
        }
      ]
    },
    {
      "cell_type": "code",
      "metadata": {
        "id": "w8nSBStsuFXN"
      },
      "source": [
        "myFirstList=[3,4,5,6,7]"
      ],
      "execution_count": 8,
      "outputs": []
    },
    {
      "cell_type": "code",
      "metadata": {
        "colab": {
          "base_uri": "https://localhost:8080/"
        },
        "id": "WHE2yllmuFXN",
        "outputId": "7e0b9d5b-ded5-45ca-be1e-15e0e49969e5"
      },
      "source": [
        "myFirstList"
      ],
      "execution_count": 9,
      "outputs": [
        {
          "output_type": "execute_result",
          "data": {
            "text/plain": [
              "[3, 4, 5, 6, 7]"
            ]
          },
          "metadata": {},
          "execution_count": 9
        }
      ]
    },
    {
      "cell_type": "code",
      "metadata": {
        "id": "XG71DDS-uFXO"
      },
      "source": [
        "myFirstMatrix=[['a','b','c'],['d','e','f'],['g','h','i']]"
      ],
      "execution_count": 10,
      "outputs": []
    },
    {
      "cell_type": "code",
      "metadata": {
        "colab": {
          "base_uri": "https://localhost:8080/"
        },
        "id": "KK1QASWfuFXO",
        "outputId": "ed326301-6cce-4e49-ee3f-41b6d6004968"
      },
      "source": [
        "myFirstMatrix"
      ],
      "execution_count": 11,
      "outputs": [
        {
          "output_type": "execute_result",
          "data": {
            "text/plain": [
              "[['a', 'b', 'c'], ['d', 'e', 'f'], ['g', 'h', 'i']]"
            ]
          },
          "metadata": {},
          "execution_count": 11
        }
      ]
    },
    {
      "cell_type": "code",
      "metadata": {
        "id": "ianoinyIuFXO"
      },
      "source": [
        "mySecondMatrix=[[1,2],[3,4]]"
      ],
      "execution_count": 12,
      "outputs": []
    },
    {
      "cell_type": "code",
      "metadata": {
        "colab": {
          "base_uri": "https://localhost:8080/"
        },
        "id": "nDZ1cUAKuFXO",
        "outputId": "cbca5a74-90b4-478c-b6ed-8e6ba3a51cdc"
      },
      "source": [
        "mySecondMatrix"
      ],
      "execution_count": 13,
      "outputs": [
        {
          "output_type": "execute_result",
          "data": {
            "text/plain": [
              "[[1, 2], [3, 4]]"
            ]
          },
          "metadata": {},
          "execution_count": 13
        }
      ]
    },
    {
      "cell_type": "code",
      "metadata": {
        "id": "bMntVKVhuFXO"
      },
      "source": [
        "myThirdMatrix=[[0,1],[1,0]]"
      ],
      "execution_count": 34,
      "outputs": []
    },
    {
      "cell_type": "code",
      "metadata": {
        "colab": {
          "base_uri": "https://localhost:8080/"
        },
        "id": "y-PR2gCGviol",
        "outputId": "1cf5ab47-c44c-443f-f37e-d632c38beb22"
      },
      "source": [
        "myThirdMatrix"
      ],
      "execution_count": 35,
      "outputs": [
        {
          "output_type": "execute_result",
          "data": {
            "text/plain": [
              "[[0, 1], [1, 0]]"
            ]
          },
          "metadata": {},
          "execution_count": 35
        }
      ]
    },
    {
      "cell_type": "code",
      "metadata": {
        "id": "DGazRXhbuFXO"
      },
      "source": [
        "myListofStrings=['Hi there', 'Hola que tal?','Wie gehts', 'Ni hao']"
      ],
      "execution_count": 14,
      "outputs": []
    },
    {
      "cell_type": "code",
      "metadata": {
        "colab": {
          "base_uri": "https://localhost:8080/"
        },
        "id": "ZTj6FfAIuFXO",
        "outputId": "73e0e77a-d276-4ba2-e083-303825b8f3d2"
      },
      "source": [
        "myListofStrings"
      ],
      "execution_count": 15,
      "outputs": [
        {
          "output_type": "execute_result",
          "data": {
            "text/plain": [
              "['Hi there', 'Hola que tal?', 'Wie gehts', 'Ni hao']"
            ]
          },
          "metadata": {},
          "execution_count": 15
        }
      ]
    },
    {
      "cell_type": "code",
      "metadata": {
        "id": "rCnVTGJyuFXP"
      },
      "source": [
        ""
      ],
      "execution_count": 15,
      "outputs": []
    },
    {
      "cell_type": "markdown",
      "metadata": {
        "id": "1YQJ6ITCu5-F"
      },
      "source": [
        "#### Refer to the following link for more information:\n",
        "https://realpython.com/python-data-types/"
      ]
    },
    {
      "cell_type": "code",
      "metadata": {
        "id": "6EMqpku1u5cU"
      },
      "source": [
        ""
      ],
      "execution_count": null,
      "outputs": []
    },
    {
      "cell_type": "markdown",
      "metadata": {
        "id": "uBqSzkwjuFXP"
      },
      "source": [
        "## 1.2. Basic Operations in Python"
      ]
    },
    {
      "cell_type": "markdown",
      "metadata": {
        "id": "XTtE050yuSTa"
      },
      "source": [
        "#### Indeed Python allows you to apply operations over the variables you have defined previously"
      ]
    },
    {
      "cell_type": "code",
      "metadata": {
        "colab": {
          "base_uri": "https://localhost:8080/"
        },
        "id": "ghqC9CGbuFXP",
        "outputId": "410bd60c-c105-4bab-ad14-2145b8ac1d4c"
      },
      "source": [
        "myIntegerVariable+myFloatVariable"
      ],
      "execution_count": 28,
      "outputs": [
        {
          "output_type": "execute_result",
          "data": {
            "text/plain": [
              "59.141592"
            ]
          },
          "metadata": {},
          "execution_count": 28
        }
      ]
    },
    {
      "cell_type": "code",
      "metadata": {
        "colab": {
          "base_uri": "https://localhost:8080/"
        },
        "id": "bzwwkDo5uFXP",
        "outputId": "f14de92b-8790-48a5-c50f-a19a0a2db7b1"
      },
      "source": [
        "myFloatVariable**2"
      ],
      "execution_count": 30,
      "outputs": [
        {
          "output_type": "execute_result",
          "data": {
            "text/plain": [
              "9.869600294464002"
            ]
          },
          "metadata": {},
          "execution_count": 30
        }
      ]
    },
    {
      "cell_type": "code",
      "metadata": {
        "id": "jEyCcBilus3w"
      },
      "source": [
        ""
      ],
      "execution_count": null,
      "outputs": []
    },
    {
      "cell_type": "markdown",
      "metadata": {
        "id": "t3k_Ol3AuFXP"
      },
      "source": [
        "## 1.3. Libraries in Python\n",
        "#### Libraries are pieces of code made by other that we can reuse for our own benefit and productivity\n",
        "#### For instance to compute the logarithm of a number, to multiply matrices, etc."
      ]
    },
    {
      "cell_type": "code",
      "metadata": {
        "id": "-F5zeRgpuFXQ"
      },
      "source": [
        "import math\n",
        "import numpy as np"
      ],
      "execution_count": 44,
      "outputs": []
    },
    {
      "cell_type": "code",
      "metadata": {
        "id": "1y8uRhVKuFXQ"
      },
      "source": [
        ""
      ],
      "execution_count": 18,
      "outputs": []
    },
    {
      "cell_type": "markdown",
      "metadata": {
        "id": "ppcjLX8nxWyY"
      },
      "source": [
        "### Let's compute the logarithm using the math library"
      ]
    },
    {
      "cell_type": "code",
      "metadata": {
        "colab": {
          "base_uri": "https://localhost:8080/"
        },
        "id": "YZJe9pQsxeWP",
        "outputId": "00b6dcfc-8940-4380-994c-10e137c365da"
      },
      "source": [
        "math.log(14)"
      ],
      "execution_count": 45,
      "outputs": [
        {
          "output_type": "execute_result",
          "data": {
            "text/plain": [
              "2.6390573296152584"
            ]
          },
          "metadata": {},
          "execution_count": 45
        }
      ]
    },
    {
      "cell_type": "code",
      "metadata": {
        "colab": {
          "base_uri": "https://localhost:8080/"
        },
        "id": "xYwzXNmgxeZG",
        "outputId": "640228c1-fe42-4f19-d128-85c832759fac"
      },
      "source": [
        "math.log(myFloatVariable)"
      ],
      "execution_count": 46,
      "outputs": [
        {
          "output_type": "execute_result",
          "data": {
            "text/plain": [
              "1.1447296778052858"
            ]
          },
          "metadata": {},
          "execution_count": 46
        }
      ]
    },
    {
      "cell_type": "code",
      "metadata": {
        "id": "vckpw_Vnxl_s"
      },
      "source": [
        ""
      ],
      "execution_count": null,
      "outputs": []
    },
    {
      "cell_type": "markdown",
      "metadata": {
        "id": "wl9P7oy0y_NB"
      },
      "source": [
        "#### Refer to the following link for more information:\n",
        "https://docs.python.org/3/library/math.html"
      ]
    },
    {
      "cell_type": "code",
      "metadata": {
        "id": "kY1i8iXmxmCW"
      },
      "source": [
        ""
      ],
      "execution_count": null,
      "outputs": []
    },
    {
      "cell_type": "code",
      "metadata": {
        "id": "fESNimWRxmEy"
      },
      "source": [
        ""
      ],
      "execution_count": null,
      "outputs": []
    },
    {
      "cell_type": "markdown",
      "metadata": {
        "id": "Yc6Qx6kwuFXQ"
      },
      "source": [
        "### Let's do some matrix multiplication using numpy"
      ]
    },
    {
      "cell_type": "code",
      "metadata": {
        "id": "ddTl6WrNuFXQ"
      },
      "source": [
        "a = np.array([[1, 0],\n",
        "              [0, 2]])"
      ],
      "execution_count": 47,
      "outputs": []
    },
    {
      "cell_type": "code",
      "metadata": {
        "id": "s0Us_KO8uFXQ"
      },
      "source": [
        "b = np.array([[4, 1],\n",
        "              [2, 2]])"
      ],
      "execution_count": 48,
      "outputs": []
    },
    {
      "cell_type": "code",
      "metadata": {
        "colab": {
          "base_uri": "https://localhost:8080/"
        },
        "id": "jt7lH0zsuFXQ",
        "outputId": "197652d5-795b-4c39-c840-63bfa9af1ea0"
      },
      "source": [
        "np.matmul(a, b)"
      ],
      "execution_count": 49,
      "outputs": [
        {
          "output_type": "execute_result",
          "data": {
            "text/plain": [
              "array([[4, 1],\n",
              "       [4, 4]])"
            ]
          },
          "metadata": {},
          "execution_count": 49
        }
      ]
    },
    {
      "cell_type": "markdown",
      "metadata": {
        "id": "nsMPX8_qzIUf"
      },
      "source": [
        "#### Refer to the following link for more information:\n",
        "https://numpy.org/doc/stable/user/quickstart.html"
      ]
    },
    {
      "cell_type": "code",
      "metadata": {
        "id": "w3rz4GUAuFXQ"
      },
      "source": [
        ""
      ],
      "execution_count": 21,
      "outputs": []
    },
    {
      "cell_type": "code",
      "metadata": {
        "id": "3AzXu2oOxImD"
      },
      "source": [
        ""
      ],
      "execution_count": null,
      "outputs": []
    },
    {
      "cell_type": "code",
      "metadata": {
        "id": "BWHCq96wxIon"
      },
      "source": [
        ""
      ],
      "execution_count": null,
      "outputs": []
    },
    {
      "cell_type": "code",
      "metadata": {
        "id": "5WO5JKh7xIrG"
      },
      "source": [
        ""
      ],
      "execution_count": null,
      "outputs": []
    },
    {
      "cell_type": "code",
      "metadata": {
        "id": "O-fFBi48xIs_"
      },
      "source": [
        ""
      ],
      "execution_count": null,
      "outputs": []
    },
    {
      "cell_type": "markdown",
      "metadata": {
        "id": "taUX4WEm0hyQ"
      },
      "source": [
        "## 1.4. Visualizations in Python\n",
        "#### Python provides visualization capabilities by way of third party libraries such as matplolib and seaborn"
      ]
    },
    {
      "cell_type": "markdown",
      "metadata": {
        "id": "SzBW9RJvuFXR"
      },
      "source": [
        "### Let's do some plotting using seaborn "
      ]
    },
    {
      "cell_type": "code",
      "metadata": {
        "id": "B9uOb1xM0zmB"
      },
      "source": [
        "import seaborn as sns"
      ],
      "execution_count": 50,
      "outputs": []
    },
    {
      "cell_type": "code",
      "metadata": {
        "id": "qCdoBTeGuFXR"
      },
      "source": [
        "x_values=[0,1,2,3,4,5,6,7,8,9]"
      ],
      "execution_count": 53,
      "outputs": []
    },
    {
      "cell_type": "code",
      "metadata": {
        "id": "PtmP0XnmuFXR"
      },
      "source": [
        "y_values=[1.1,1.2,1.3,2.1,2.2,1.9,1.5,2.2,3.3,4.5]"
      ],
      "execution_count": 62,
      "outputs": []
    },
    {
      "cell_type": "code",
      "metadata": {
        "colab": {
          "base_uri": "https://localhost:8080/",
          "height": 282
        },
        "id": "vuWg7JTNuFXR",
        "outputId": "e12b897b-6bf2-42a0-dac3-d1ab452bbde4"
      },
      "source": [
        "sns.scatterplot(x=x_values, y=y_values)"
      ],
      "execution_count": 63,
      "outputs": [
        {
          "output_type": "execute_result",
          "data": {
            "text/plain": [
              "<matplotlib.axes._subplots.AxesSubplot at 0x7fd8551fc290>"
            ]
          },
          "metadata": {},
          "execution_count": 63
        },
        {
          "output_type": "display_data",
          "data": {
            "image/png": "[encoded data removed]",
            "text/plain": [
              "<Figure size 432x288 with 1 Axes>"
            ]
          },
          "metadata": {
            "needs_background": "light"
          }
        }
      ]
    },
    {
      "cell_type": "code",
      "metadata": {
        "id": "wfAjZpDwuFXR"
      },
      "source": [
        ""
      ],
      "execution_count": 26,
      "outputs": []
    },
    {
      "cell_type": "code",
      "metadata": {
        "colab": {
          "base_uri": "https://localhost:8080/",
          "height": 296
        },
        "id": "kVjtv2CY1K2a",
        "outputId": "050c5ba2-049b-4fac-c145-81e11f646e28"
      },
      "source": [
        "fmri = sns.load_dataset(\"fmri\")\n",
        "\n",
        "# Plot the responses for different events and regions\n",
        "sns.lineplot(x=\"timepoint\", y=\"signal\",\n",
        "             hue=\"region\", style=\"event\",\n",
        "             data=fmri)"
      ],
      "execution_count": 64,
      "outputs": [
        {
          "output_type": "execute_result",
          "data": {
            "text/plain": [
              "<matplotlib.axes._subplots.AxesSubplot at 0x7fd85516b8d0>"
            ]
          },
          "metadata": {},
          "execution_count": 64
        },
        {
          "output_type": "display_data",
          "data": {
            "image/png": "[encoded data removed]",
            "text/plain": [
              "<Figure size 432x288 with 1 Axes>"
            ]
          },
          "metadata": {
            "needs_background": "light"
          }
        }
      ]
    },
    {
      "cell_type": "code",
      "metadata": {
        "colab": {
          "base_uri": "https://localhost:8080/",
          "height": 297
        },
        "id": "BsFgAj601LnA",
        "outputId": "866f9d92-c052-4bac-ca4a-266de438df14"
      },
      "source": [
        "# Load the penguins dataset\n",
        "df = sns.load_dataset(\"penguins\")\n",
        "\n",
        "# Draw a categorical scatterplot to show each observation\n",
        "ax = sns.swarmplot(data=df, x=\"body_mass_g\", y=\"sex\", hue=\"species\")\n",
        "ax.set(ylabel=\"\")"
      ],
      "execution_count": 65,
      "outputs": [
        {
          "output_type": "execute_result",
          "data": {
            "text/plain": [
              "[Text(0, 0.5, '')]"
            ]
          },
          "metadata": {},
          "execution_count": 65
        },
        {
          "output_type": "display_data",
          "data": {
            "image/png": "[encoded data removed]",
            "text/plain": [
              "<Figure size 432x288 with 1 Axes>"
            ]
          },
          "metadata": {
            "needs_background": "light"
          }
        }
      ]
    },
    {
      "cell_type": "code",
      "metadata": {
        "id": "8TgJGM3X1Lp3"
      },
      "source": [
        ""
      ],
      "execution_count": null,
      "outputs": []
    },
    {
      "cell_type": "markdown",
      "metadata": {
        "id": "OsoaydL1uFXR"
      },
      "source": [
        "## 1.5. Error handling and self support\n",
        "### Quite easy: look on google search for the error message\n",
        "### 95% of the errors are documented on stackoverflow"
      ]
    },
    {
      "cell_type": "code",
      "metadata": {
        "colab": {
          "base_uri": "https://localhost:8080/",
          "height": 164
        },
        "id": "KJgRWv1UuFXS",
        "outputId": "290e1368-4c02-4bba-ef11-e959574ebfdb"
      },
      "source": [
        "myprint(variable)"
      ],
      "execution_count": 66,
      "outputs": [
        {
          "output_type": "error",
          "ename": "NameError",
          "evalue": "ignored",
          "traceback": [
            "\u001b[0;31m---------------------------------------------------------------------------\u001b[0m",
            "\u001b[0;31mNameError\u001b[0m                                 Traceback (most recent call last)",
            "\u001b[0;32m<ipython-input-66-5a1b0f5a4156>\u001b[0m in \u001b[0;36m<module>\u001b[0;34m()\u001b[0m\n\u001b[0;32m----> 1\u001b[0;31m \u001b[0mmyprint\u001b[0m\u001b[0;34m(\u001b[0m\u001b[0mvariable\u001b[0m\u001b[0;34m)\u001b[0m\u001b[0;34m\u001b[0m\u001b[0;34m\u001b[0m\u001b[0m\n\u001b[0m",
            "\u001b[0;31mNameError\u001b[0m: name 'myprint' is not defined"
          ]
        }
      ]
    },
    {
      "cell_type": "markdown",
      "metadata": {
        "id": "jkleRCb02DwK"
      },
      "source": [
        "StackOverflow is your best friend when it comes to data science\n",
        "https://stackoverflow.com/"
      ]
    },
    {
      "cell_type": "markdown",
      "metadata": {
        "id": "2dzP_54juFXS"
      },
      "source": [
        "## Some advice: learning how to code takes time and patience, persist and your will prevail !!"
      ]
    }
  ]
}